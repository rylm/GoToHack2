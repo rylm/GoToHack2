{
 "cells": [
  {
   "cell_type": "code",
   "execution_count": 207,
   "metadata": {
    "collapsed": true
   },
   "outputs": [],
   "source": [
    "import numpy as np\n",
    "import pandas as pd\n",
    "import matplotlib.pyplot as plt\n",
    "%matplotlib inline\n",
    "import pickle\n",
    "from copy import deepcopy\n",
    "import math"
   ]
  },
  {
   "cell_type": "code",
   "execution_count": 3,
   "metadata": {
    "collapsed": false
   },
   "outputs": [],
   "source": [
    "data_in = pd.read_csv(\"/Users/alexajax/QIWI/qiwi_users_money_in_data.csv\", encoding='windows-1251', delimiter=';')\n",
    "data_out = pd.read_csv(\"/Users/alexajax/QIWI/qiwi_users_money_out_data.csv\", encoding='windows-1251', delimiter=';')\n",
    "profile = pd.read_csv(\"/Users/alexajax/QIWI/qiwi_users_profile_data.csv\", encoding='windows-1251', delimiter=';')"
   ]
  },
  {
   "cell_type": "code",
   "execution_count": 4,
   "metadata": {
    "collapsed": true
   },
   "outputs": [],
   "source": [
    "data_in[\"type\"]=\"income\"\n",
    "data_out[\"type\"]=\"outcome\"\n",
    "\n",
    "data = pd.concat([data_in, data_out])"
   ]
  },
  {
   "cell_type": "code",
   "execution_count": 5,
   "metadata": {
    "collapsed": true
   },
   "outputs": [],
   "source": [
    "data = pd.merge(data, profile, on='user_id')"
   ]
  },
  {
   "cell_type": "code",
   "execution_count": 6,
   "metadata": {
    "collapsed": true
   },
   "outputs": [],
   "source": [
    "data = data.fillna('Нет')"
   ]
  },
  {
   "cell_type": "code",
   "execution_count": 248,
   "metadata": {
    "collapsed": false,
    "scrolled": true
   },
   "outputs": [
    {
     "data": {
      "text/plain": [
       "user_id\n",
       "1            1\n",
       "2            2\n",
       "3            3\n",
       "4            4\n",
       "5            5\n",
       "6            6\n",
       "7            7\n",
       "8            8\n",
       "9            9\n",
       "10          10\n",
       "11          11\n",
       "12          12\n",
       "13          13\n",
       "14          14\n",
       "15          15\n",
       "16          16\n",
       "17          17\n",
       "18          18\n",
       "19          19\n",
       "20          20\n",
       "21          21\n",
       "22          22\n",
       "23          23\n",
       "24          24\n",
       "25          25\n",
       "26          26\n",
       "27          27\n",
       "28          28\n",
       "29          29\n",
       "30          30\n",
       "         ...  \n",
       "15084    15084\n",
       "15085    15085\n",
       "15086    15086\n",
       "15087    15087\n",
       "15088    15088\n",
       "15089    15089\n",
       "15090    15090\n",
       "15091    15091\n",
       "15092    15092\n",
       "15093    15093\n",
       "15094    15094\n",
       "15095    15095\n",
       "15096    15096\n",
       "15097    15097\n",
       "15098    15098\n",
       "15099    15099\n",
       "15100    15100\n",
       "15101    15101\n",
       "15102    15102\n",
       "15103    15103\n",
       "15104    15104\n",
       "15105    15105\n",
       "15106    15106\n",
       "15107    15107\n",
       "15108    15108\n",
       "15109    15109\n",
       "15110    15110\n",
       "15111    15111\n",
       "15112    15112\n",
       "15113    15113\n",
       "Name: user_id, dtype: int64"
      ]
     },
     "execution_count": 248,
     "metadata": {},
     "output_type": "execute_result"
    }
   ],
   "source": [
    "X_t = pd.DataFrame()\n",
    "X_t[\"user_id\"] = pd.Series(list(set(data.user_id.values)))\n",
    "X_t.index = X_t.user_id\n",
    "X_t.pop(\"user_id\")"
   ]
  },
  {
   "cell_type": "code",
   "execution_count": 56,
   "metadata": {
    "collapsed": false,
    "scrolled": true
   },
   "outputs": [
    {
     "ename": "KeyError",
     "evalue": "'date_month'",
     "output_type": "error",
     "traceback": [
      "\u001b[0;31m---------------------------------------------------------------------------\u001b[0m",
      "\u001b[0;31mKeyError\u001b[0m                                  Traceback (most recent call last)",
      "\u001b[0;32m/Users/alexajax/anaconda3/lib/python3.5/site-packages/pandas/indexes/base.py\u001b[0m in \u001b[0;36mget_loc\u001b[0;34m(self, key, method, tolerance)\u001b[0m\n\u001b[1;32m   1944\u001b[0m             \u001b[0;32mtry\u001b[0m\u001b[0;34m:\u001b[0m\u001b[0;34m\u001b[0m\u001b[0m\n\u001b[0;32m-> 1945\u001b[0;31m                 \u001b[0;32mreturn\u001b[0m \u001b[0mself\u001b[0m\u001b[0;34m.\u001b[0m\u001b[0m_engine\u001b[0m\u001b[0;34m.\u001b[0m\u001b[0mget_loc\u001b[0m\u001b[0;34m(\u001b[0m\u001b[0mkey\u001b[0m\u001b[0;34m)\u001b[0m\u001b[0;34m\u001b[0m\u001b[0m\n\u001b[0m\u001b[1;32m   1946\u001b[0m             \u001b[0;32mexcept\u001b[0m \u001b[0mKeyError\u001b[0m\u001b[0;34m:\u001b[0m\u001b[0;34m\u001b[0m\u001b[0m\n",
      "\u001b[0;32mpandas/index.pyx\u001b[0m in \u001b[0;36mpandas.index.IndexEngine.get_loc (pandas/index.c:4154)\u001b[0;34m()\u001b[0m\n",
      "\u001b[0;32mpandas/index.pyx\u001b[0m in \u001b[0;36mpandas.index.IndexEngine.get_loc (pandas/index.c:4018)\u001b[0;34m()\u001b[0m\n",
      "\u001b[0;32mpandas/hashtable.pyx\u001b[0m in \u001b[0;36mpandas.hashtable.PyObjectHashTable.get_item (pandas/hashtable.c:12368)\u001b[0;34m()\u001b[0m\n",
      "\u001b[0;32mpandas/hashtable.pyx\u001b[0m in \u001b[0;36mpandas.hashtable.PyObjectHashTable.get_item (pandas/hashtable.c:12322)\u001b[0;34m()\u001b[0m\n",
      "\u001b[0;31mKeyError\u001b[0m: 'date_month'",
      "\nDuring handling of the above exception, another exception occurred:\n",
      "\u001b[0;31mKeyError\u001b[0m                                  Traceback (most recent call last)",
      "\u001b[0;32m<ipython-input-56-e95376efb163>\u001b[0m in \u001b[0;36m<module>\u001b[0;34m()\u001b[0m\n\u001b[0;32m----> 1\u001b[0;31m \u001b[0mdfx\u001b[0m \u001b[0;34m=\u001b[0m \u001b[0mpd\u001b[0m\u001b[0;34m.\u001b[0m\u001b[0mDataFrame\u001b[0m\u001b[0;34m(\u001b[0m\u001b[0mdata\u001b[0m\u001b[0;34m[\u001b[0m\u001b[0;34m'date_month'\u001b[0m\u001b[0;34m]\u001b[0m\u001b[0;34m.\u001b[0m\u001b[0mstr\u001b[0m\u001b[0;34m.\u001b[0m\u001b[0msplit\u001b[0m\u001b[0;34m(\u001b[0m\u001b[0;34m'-'\u001b[0m\u001b[0;34m)\u001b[0m\u001b[0;34m.\u001b[0m\u001b[0mtolist\u001b[0m\u001b[0;34m(\u001b[0m\u001b[0;34m)\u001b[0m\u001b[0;34m,\u001b[0m \u001b[0mcolumns\u001b[0m \u001b[0;34m=\u001b[0m \u001b[0;34m[\u001b[0m\u001b[0;34m'y'\u001b[0m\u001b[0;34m,\u001b[0m\u001b[0;34m'm'\u001b[0m\u001b[0;34m]\u001b[0m\u001b[0;34m)\u001b[0m\u001b[0;34m\u001b[0m\u001b[0m\n\u001b[0m\u001b[1;32m      2\u001b[0m \u001b[0mdata\u001b[0m\u001b[0;34m[\u001b[0m\u001b[0;34m'year'\u001b[0m\u001b[0;34m]\u001b[0m \u001b[0;34m=\u001b[0m \u001b[0mdfx\u001b[0m\u001b[0;34m.\u001b[0m\u001b[0my\u001b[0m\u001b[0;34m\u001b[0m\u001b[0m\n\u001b[1;32m      3\u001b[0m \u001b[0mdata\u001b[0m\u001b[0;34m[\u001b[0m\u001b[0;34m'month'\u001b[0m\u001b[0;34m]\u001b[0m \u001b[0;34m=\u001b[0m \u001b[0mdfx\u001b[0m\u001b[0;34m.\u001b[0m\u001b[0mm\u001b[0m\u001b[0;34m\u001b[0m\u001b[0m\n",
      "\u001b[0;32m/Users/alexajax/anaconda3/lib/python3.5/site-packages/pandas/core/frame.py\u001b[0m in \u001b[0;36m__getitem__\u001b[0;34m(self, key)\u001b[0m\n\u001b[1;32m   1995\u001b[0m             \u001b[0;32mreturn\u001b[0m \u001b[0mself\u001b[0m\u001b[0;34m.\u001b[0m\u001b[0m_getitem_multilevel\u001b[0m\u001b[0;34m(\u001b[0m\u001b[0mkey\u001b[0m\u001b[0;34m)\u001b[0m\u001b[0;34m\u001b[0m\u001b[0m\n\u001b[1;32m   1996\u001b[0m         \u001b[0;32melse\u001b[0m\u001b[0;34m:\u001b[0m\u001b[0;34m\u001b[0m\u001b[0m\n\u001b[0;32m-> 1997\u001b[0;31m             \u001b[0;32mreturn\u001b[0m \u001b[0mself\u001b[0m\u001b[0;34m.\u001b[0m\u001b[0m_getitem_column\u001b[0m\u001b[0;34m(\u001b[0m\u001b[0mkey\u001b[0m\u001b[0;34m)\u001b[0m\u001b[0;34m\u001b[0m\u001b[0m\n\u001b[0m\u001b[1;32m   1998\u001b[0m \u001b[0;34m\u001b[0m\u001b[0m\n\u001b[1;32m   1999\u001b[0m     \u001b[0;32mdef\u001b[0m \u001b[0m_getitem_column\u001b[0m\u001b[0;34m(\u001b[0m\u001b[0mself\u001b[0m\u001b[0;34m,\u001b[0m \u001b[0mkey\u001b[0m\u001b[0;34m)\u001b[0m\u001b[0;34m:\u001b[0m\u001b[0;34m\u001b[0m\u001b[0m\n",
      "\u001b[0;32m/Users/alexajax/anaconda3/lib/python3.5/site-packages/pandas/core/frame.py\u001b[0m in \u001b[0;36m_getitem_column\u001b[0;34m(self, key)\u001b[0m\n\u001b[1;32m   2002\u001b[0m         \u001b[0;31m# get column\u001b[0m\u001b[0;34m\u001b[0m\u001b[0;34m\u001b[0m\u001b[0m\n\u001b[1;32m   2003\u001b[0m         \u001b[0;32mif\u001b[0m \u001b[0mself\u001b[0m\u001b[0;34m.\u001b[0m\u001b[0mcolumns\u001b[0m\u001b[0;34m.\u001b[0m\u001b[0mis_unique\u001b[0m\u001b[0;34m:\u001b[0m\u001b[0;34m\u001b[0m\u001b[0m\n\u001b[0;32m-> 2004\u001b[0;31m             \u001b[0;32mreturn\u001b[0m \u001b[0mself\u001b[0m\u001b[0;34m.\u001b[0m\u001b[0m_get_item_cache\u001b[0m\u001b[0;34m(\u001b[0m\u001b[0mkey\u001b[0m\u001b[0;34m)\u001b[0m\u001b[0;34m\u001b[0m\u001b[0m\n\u001b[0m\u001b[1;32m   2005\u001b[0m \u001b[0;34m\u001b[0m\u001b[0m\n\u001b[1;32m   2006\u001b[0m         \u001b[0;31m# duplicate columns & possible reduce dimensionality\u001b[0m\u001b[0;34m\u001b[0m\u001b[0;34m\u001b[0m\u001b[0m\n",
      "\u001b[0;32m/Users/alexajax/anaconda3/lib/python3.5/site-packages/pandas/core/generic.py\u001b[0m in \u001b[0;36m_get_item_cache\u001b[0;34m(self, item)\u001b[0m\n\u001b[1;32m   1348\u001b[0m         \u001b[0mres\u001b[0m \u001b[0;34m=\u001b[0m \u001b[0mcache\u001b[0m\u001b[0;34m.\u001b[0m\u001b[0mget\u001b[0m\u001b[0;34m(\u001b[0m\u001b[0mitem\u001b[0m\u001b[0;34m)\u001b[0m\u001b[0;34m\u001b[0m\u001b[0m\n\u001b[1;32m   1349\u001b[0m         \u001b[0;32mif\u001b[0m \u001b[0mres\u001b[0m \u001b[0;32mis\u001b[0m \u001b[0;32mNone\u001b[0m\u001b[0;34m:\u001b[0m\u001b[0;34m\u001b[0m\u001b[0m\n\u001b[0;32m-> 1350\u001b[0;31m             \u001b[0mvalues\u001b[0m \u001b[0;34m=\u001b[0m \u001b[0mself\u001b[0m\u001b[0;34m.\u001b[0m\u001b[0m_data\u001b[0m\u001b[0;34m.\u001b[0m\u001b[0mget\u001b[0m\u001b[0;34m(\u001b[0m\u001b[0mitem\u001b[0m\u001b[0;34m)\u001b[0m\u001b[0;34m\u001b[0m\u001b[0m\n\u001b[0m\u001b[1;32m   1351\u001b[0m             \u001b[0mres\u001b[0m \u001b[0;34m=\u001b[0m \u001b[0mself\u001b[0m\u001b[0;34m.\u001b[0m\u001b[0m_box_item_values\u001b[0m\u001b[0;34m(\u001b[0m\u001b[0mitem\u001b[0m\u001b[0;34m,\u001b[0m \u001b[0mvalues\u001b[0m\u001b[0;34m)\u001b[0m\u001b[0;34m\u001b[0m\u001b[0m\n\u001b[1;32m   1352\u001b[0m             \u001b[0mcache\u001b[0m\u001b[0;34m[\u001b[0m\u001b[0mitem\u001b[0m\u001b[0;34m]\u001b[0m \u001b[0;34m=\u001b[0m \u001b[0mres\u001b[0m\u001b[0;34m\u001b[0m\u001b[0m\n",
      "\u001b[0;32m/Users/alexajax/anaconda3/lib/python3.5/site-packages/pandas/core/internals.py\u001b[0m in \u001b[0;36mget\u001b[0;34m(self, item, fastpath)\u001b[0m\n\u001b[1;32m   3288\u001b[0m \u001b[0;34m\u001b[0m\u001b[0m\n\u001b[1;32m   3289\u001b[0m             \u001b[0;32mif\u001b[0m \u001b[0;32mnot\u001b[0m \u001b[0misnull\u001b[0m\u001b[0;34m(\u001b[0m\u001b[0mitem\u001b[0m\u001b[0;34m)\u001b[0m\u001b[0;34m:\u001b[0m\u001b[0;34m\u001b[0m\u001b[0m\n\u001b[0;32m-> 3290\u001b[0;31m                 \u001b[0mloc\u001b[0m \u001b[0;34m=\u001b[0m \u001b[0mself\u001b[0m\u001b[0;34m.\u001b[0m\u001b[0mitems\u001b[0m\u001b[0;34m.\u001b[0m\u001b[0mget_loc\u001b[0m\u001b[0;34m(\u001b[0m\u001b[0mitem\u001b[0m\u001b[0;34m)\u001b[0m\u001b[0;34m\u001b[0m\u001b[0m\n\u001b[0m\u001b[1;32m   3291\u001b[0m             \u001b[0;32melse\u001b[0m\u001b[0;34m:\u001b[0m\u001b[0;34m\u001b[0m\u001b[0m\n\u001b[1;32m   3292\u001b[0m                 \u001b[0mindexer\u001b[0m \u001b[0;34m=\u001b[0m \u001b[0mnp\u001b[0m\u001b[0;34m.\u001b[0m\u001b[0marange\u001b[0m\u001b[0;34m(\u001b[0m\u001b[0mlen\u001b[0m\u001b[0;34m(\u001b[0m\u001b[0mself\u001b[0m\u001b[0;34m.\u001b[0m\u001b[0mitems\u001b[0m\u001b[0;34m)\u001b[0m\u001b[0;34m)\u001b[0m\u001b[0;34m[\u001b[0m\u001b[0misnull\u001b[0m\u001b[0;34m(\u001b[0m\u001b[0mself\u001b[0m\u001b[0;34m.\u001b[0m\u001b[0mitems\u001b[0m\u001b[0;34m)\u001b[0m\u001b[0;34m]\u001b[0m\u001b[0;34m\u001b[0m\u001b[0m\n",
      "\u001b[0;32m/Users/alexajax/anaconda3/lib/python3.5/site-packages/pandas/indexes/base.py\u001b[0m in \u001b[0;36mget_loc\u001b[0;34m(self, key, method, tolerance)\u001b[0m\n\u001b[1;32m   1945\u001b[0m                 \u001b[0;32mreturn\u001b[0m \u001b[0mself\u001b[0m\u001b[0;34m.\u001b[0m\u001b[0m_engine\u001b[0m\u001b[0;34m.\u001b[0m\u001b[0mget_loc\u001b[0m\u001b[0;34m(\u001b[0m\u001b[0mkey\u001b[0m\u001b[0;34m)\u001b[0m\u001b[0;34m\u001b[0m\u001b[0m\n\u001b[1;32m   1946\u001b[0m             \u001b[0;32mexcept\u001b[0m \u001b[0mKeyError\u001b[0m\u001b[0;34m:\u001b[0m\u001b[0;34m\u001b[0m\u001b[0m\n\u001b[0;32m-> 1947\u001b[0;31m                 \u001b[0;32mreturn\u001b[0m \u001b[0mself\u001b[0m\u001b[0;34m.\u001b[0m\u001b[0m_engine\u001b[0m\u001b[0;34m.\u001b[0m\u001b[0mget_loc\u001b[0m\u001b[0;34m(\u001b[0m\u001b[0mself\u001b[0m\u001b[0;34m.\u001b[0m\u001b[0m_maybe_cast_indexer\u001b[0m\u001b[0;34m(\u001b[0m\u001b[0mkey\u001b[0m\u001b[0;34m)\u001b[0m\u001b[0;34m)\u001b[0m\u001b[0;34m\u001b[0m\u001b[0m\n\u001b[0m\u001b[1;32m   1948\u001b[0m \u001b[0;34m\u001b[0m\u001b[0m\n\u001b[1;32m   1949\u001b[0m         \u001b[0mindexer\u001b[0m \u001b[0;34m=\u001b[0m \u001b[0mself\u001b[0m\u001b[0;34m.\u001b[0m\u001b[0mget_indexer\u001b[0m\u001b[0;34m(\u001b[0m\u001b[0;34m[\u001b[0m\u001b[0mkey\u001b[0m\u001b[0;34m]\u001b[0m\u001b[0;34m,\u001b[0m \u001b[0mmethod\u001b[0m\u001b[0;34m=\u001b[0m\u001b[0mmethod\u001b[0m\u001b[0;34m,\u001b[0m \u001b[0mtolerance\u001b[0m\u001b[0;34m=\u001b[0m\u001b[0mtolerance\u001b[0m\u001b[0;34m)\u001b[0m\u001b[0;34m\u001b[0m\u001b[0m\n",
      "\u001b[0;32mpandas/index.pyx\u001b[0m in \u001b[0;36mpandas.index.IndexEngine.get_loc (pandas/index.c:4154)\u001b[0;34m()\u001b[0m\n",
      "\u001b[0;32mpandas/index.pyx\u001b[0m in \u001b[0;36mpandas.index.IndexEngine.get_loc (pandas/index.c:4018)\u001b[0;34m()\u001b[0m\n",
      "\u001b[0;32mpandas/hashtable.pyx\u001b[0m in \u001b[0;36mpandas.hashtable.PyObjectHashTable.get_item (pandas/hashtable.c:12368)\u001b[0;34m()\u001b[0m\n",
      "\u001b[0;32mpandas/hashtable.pyx\u001b[0m in \u001b[0;36mpandas.hashtable.PyObjectHashTable.get_item (pandas/hashtable.c:12322)\u001b[0;34m()\u001b[0m\n",
      "\u001b[0;31mKeyError\u001b[0m: 'date_month'"
     ]
    }
   ],
   "source": [
    "dfx = pd.DataFrame(data['date_month'].str.split('-').tolist(), columns = ['y','m'])\n",
    "data['year'] = dfx.y\n",
    "data['month'] = dfx.m"
   ]
  },
  {
   "cell_type": "code",
   "execution_count": 9,
   "metadata": {
    "collapsed": false,
    "scrolled": true
   },
   "outputs": [
    {
     "data": {
      "text/plain": [
       "0         2014-02\n",
       "1         2016-03\n",
       "2         2016-07\n",
       "3         2014-01\n",
       "4         2014-03\n",
       "5         2014-05\n",
       "6         2015-09\n",
       "7         2016-03\n",
       "8         2014-01\n",
       "9         2014-02\n",
       "10        2014-03\n",
       "11        2014-05\n",
       "12        2015-09\n",
       "13        2016-03\n",
       "14        2016-07\n",
       "15        2014-11\n",
       "16        2016-03\n",
       "17        2016-07\n",
       "18        2014-12\n",
       "19        2015-01\n",
       "20        2015-02\n",
       "21        2014-12\n",
       "22        2015-01\n",
       "23        2015-02\n",
       "24        2014-07\n",
       "25        2014-08\n",
       "26        2014-07\n",
       "27        2014-08\n",
       "28        2015-02\n",
       "29        2014-01\n",
       "           ...   \n",
       "297201    2014-03\n",
       "297202    2014-05\n",
       "297203    2014-07\n",
       "297204    2016-09\n",
       "297205    2016-10\n",
       "297206    2016-03\n",
       "297207    2014-02\n",
       "297208    2014-08\n",
       "297209    2014-01\n",
       "297210    2014-04\n",
       "297211    2014-11\n",
       "297212    2015-01\n",
       "297213    2016-04\n",
       "297214    2016-12\n",
       "297215    2014-06\n",
       "297216    2014-02\n",
       "297217    2014-12\n",
       "297218    2014-01\n",
       "297219    2014-10\n",
       "297220    2014-11\n",
       "297221    2014-05\n",
       "297222    2014-07\n",
       "297223    2014-01\n",
       "297224    2014-07\n",
       "297225    2015-02\n",
       "297226    2015-03\n",
       "297227    2016-03\n",
       "297228    2016-04\n",
       "297229    2016-05\n",
       "297230    2016-12\n",
       "Name: date_month, dtype: object"
      ]
     },
     "execution_count": 9,
     "metadata": {},
     "output_type": "execute_result"
    }
   ],
   "source": [
    "data.pop(\"date_month\")"
   ]
  },
  {
   "cell_type": "code",
   "execution_count": 149,
   "metadata": {
    "collapsed": true
   },
   "outputs": [],
   "source": [
    "std_payments = []\n",
    "\n",
    "for user in X.index.values:\n",
    "    user_data = data[data.user_id == user]\n",
    "    std_payments.append(np.std(user_data[user_data.type == 'outcome'].payment.values))"
   ]
  },
  {
   "cell_type": "code",
   "execution_count": 150,
   "metadata": {
    "collapsed": false
   },
   "outputs": [],
   "source": [
    "X[\"std_payments\"] = std_payments"
   ]
  },
  {
   "cell_type": "code",
   "execution_count": 151,
   "metadata": {
    "collapsed": false
   },
   "outputs": [],
   "source": [
    "years_diff = []\n",
    "\n",
    "for user in X.index.values:\n",
    "    user_data = data[data.user_id == user]\n",
    "    years_diff.append(int(user_data.graduation_year.values[0]) - int(min(user_data.year.values)))"
   ]
  },
  {
   "cell_type": "code",
   "execution_count": 152,
   "metadata": {
    "collapsed": true
   },
   "outputs": [],
   "source": [
    "X[\"years_diff\"] = years_diff"
   ]
  },
  {
   "cell_type": "code",
   "execution_count": 153,
   "metadata": {
    "collapsed": false
   },
   "outputs": [],
   "source": [
    "from sklearn.cluster import KMeans"
   ]
  },
  {
   "cell_type": "code",
   "execution_count": 252,
   "metadata": {
    "collapsed": false
   },
   "outputs": [
    {
     "name": "stderr",
     "output_type": "stream",
     "text": [
      "/Users/alexajax/anaconda3/lib/python3.5/site-packages/numpy/core/_methods.py:59: RuntimeWarning: Mean of empty slice.\n",
      "  warnings.warn(\"Mean of empty slice.\", RuntimeWarning)\n"
     ]
    }
   ],
   "source": [
    "inm = []\n",
    "outm = []\n",
    "\n",
    "for user in X_t.index.values:\n",
    "    user_data = data[data.user_id == user]\n",
    "    inm.append(np.median(user_data[user_data.type == 'income'].payment.values))\n",
    "    outm.append(np.median(user_data[user_data.type == 'outcome'].payment.values))"
   ]
  },
  {
   "cell_type": "code",
   "execution_count": 253,
   "metadata": {
    "collapsed": false
   },
   "outputs": [],
   "source": [
    "X_t[\"inm\"] = inm\n",
    "X_t[\"outm\"] = outm"
   ]
  },
  {
   "cell_type": "code",
   "execution_count": 254,
   "metadata": {
    "collapsed": false
   },
   "outputs": [
    {
     "data": {
      "text/html": [
       "<div>\n",
       "<table border=\"1\" class=\"dataframe\">\n",
       "  <thead>\n",
       "    <tr style=\"text-align: right;\">\n",
       "      <th></th>\n",
       "      <th>inm</th>\n",
       "      <th>outm</th>\n",
       "    </tr>\n",
       "    <tr>\n",
       "      <th>user_id</th>\n",
       "      <th></th>\n",
       "      <th></th>\n",
       "    </tr>\n",
       "  </thead>\n",
       "  <tbody>\n",
       "    <tr>\n",
       "      <th>1</th>\n",
       "      <td>NaN</td>\n",
       "      <td>750.0</td>\n",
       "    </tr>\n",
       "    <tr>\n",
       "      <th>2</th>\n",
       "      <td>350.0</td>\n",
       "      <td>235.0</td>\n",
       "    </tr>\n",
       "    <tr>\n",
       "      <th>3</th>\n",
       "      <td>90.0</td>\n",
       "      <td>90.0</td>\n",
       "    </tr>\n",
       "    <tr>\n",
       "      <th>4</th>\n",
       "      <td>1300.0</td>\n",
       "      <td>1000.0</td>\n",
       "    </tr>\n",
       "    <tr>\n",
       "      <th>5</th>\n",
       "      <td>400.0</td>\n",
       "      <td>100.0</td>\n",
       "    </tr>\n",
       "  </tbody>\n",
       "</table>\n",
       "</div>"
      ],
      "text/plain": [
       "            inm    outm\n",
       "user_id                \n",
       "1           NaN   750.0\n",
       "2         350.0   235.0\n",
       "3          90.0    90.0\n",
       "4        1300.0  1000.0\n",
       "5         400.0   100.0"
      ]
     },
     "execution_count": 254,
     "metadata": {},
     "output_type": "execute_result"
    }
   ],
   "source": [
    "X_t.head()"
   ]
  },
  {
   "cell_type": "code",
   "execution_count": 255,
   "metadata": {
    "collapsed": false
   },
   "outputs": [],
   "source": [
    "X_t = X_t.fillna(0)"
   ]
  },
  {
   "cell_type": "code",
   "execution_count": 157,
   "metadata": {
    "collapsed": false
   },
   "outputs": [],
   "source": [
    "X_saves = deepcopy(X)"
   ]
  },
  {
   "cell_type": "code",
   "execution_count": 160,
   "metadata": {
    "collapsed": false
   },
   "outputs": [],
   "source": [
    "X.std_payments = (X.std_payments - np.mean(X.std_payments)) / np.std(X.std_payments)"
   ]
  },
  {
   "cell_type": "code",
   "execution_count": 161,
   "metadata": {
    "collapsed": true
   },
   "outputs": [],
   "source": [
    "X.years_diff = (X.years_diff - np.mean(X.years_diff)) / np.std(years_diff)"
   ]
  },
  {
   "cell_type": "code",
   "execution_count": 162,
   "metadata": {
    "collapsed": true
   },
   "outputs": [],
   "source": [
    "X.inm = (X.inm - np.mean(X.inm)) / np.std(X.inm)"
   ]
  },
  {
   "cell_type": "code",
   "execution_count": 163,
   "metadata": {
    "collapsed": true
   },
   "outputs": [],
   "source": [
    "X.outm = (X.outm - np.mean(X.outm)) / np.std(X.outm)"
   ]
  },
  {
   "cell_type": "code",
   "execution_count": 168,
   "metadata": {
    "collapsed": false
   },
   "outputs": [
    {
     "data": {
      "text/plain": [
       "KMeans(copy_x=True, init='k-means++', max_iter=300, n_clusters=5, n_init=10,\n",
       "    n_jobs=-1, precompute_distances='auto', random_state=None, tol=0.0001,\n",
       "    verbose=0)"
      ]
     },
     "execution_count": 168,
     "metadata": {},
     "output_type": "execute_result"
    }
   ],
   "source": [
    "model = KMeans(n_clusters=5, n_jobs=-1)\n",
    "model.fit(X)"
   ]
  },
  {
   "cell_type": "code",
   "execution_count": 169,
   "metadata": {
    "collapsed": false
   },
   "outputs": [],
   "source": [
    "result = model.predict(X)"
   ]
  },
  {
   "cell_type": "code",
   "execution_count": 184,
   "metadata": {
    "collapsed": false
   },
   "outputs": [
    {
     "data": {
      "text/html": [
       "<div>\n",
       "<table border=\"1\" class=\"dataframe\">\n",
       "  <thead>\n",
       "    <tr style=\"text-align: right;\">\n",
       "      <th></th>\n",
       "      <th>std_payments</th>\n",
       "      <th>years_diff</th>\n",
       "      <th>inm</th>\n",
       "      <th>outm</th>\n",
       "    </tr>\n",
       "    <tr>\n",
       "      <th>user_id</th>\n",
       "      <th></th>\n",
       "      <th></th>\n",
       "      <th></th>\n",
       "      <th></th>\n",
       "    </tr>\n",
       "  </thead>\n",
       "  <tbody>\n",
       "    <tr>\n",
       "      <th>1</th>\n",
       "      <td>-0.063562</td>\n",
       "      <td>-0.225773</td>\n",
       "      <td>-0.684621</td>\n",
       "      <td>-0.074758</td>\n",
       "    </tr>\n",
       "    <tr>\n",
       "      <th>2</th>\n",
       "      <td>-0.183503</td>\n",
       "      <td>0.478388</td>\n",
       "      <td>0.263494</td>\n",
       "      <td>-0.031266</td>\n",
       "    </tr>\n",
       "    <tr>\n",
       "      <th>3</th>\n",
       "      <td>-0.389522</td>\n",
       "      <td>1.182549</td>\n",
       "      <td>-0.039515</td>\n",
       "      <td>-0.090425</td>\n",
       "    </tr>\n",
       "    <tr>\n",
       "      <th>4</th>\n",
       "      <td>-0.191845</td>\n",
       "      <td>1.886710</td>\n",
       "      <td>-0.084006</td>\n",
       "      <td>-0.114299</td>\n",
       "    </tr>\n",
       "    <tr>\n",
       "      <th>5</th>\n",
       "      <td>-0.382442</td>\n",
       "      <td>-0.225773</td>\n",
       "      <td>-0.084006</td>\n",
       "      <td>-0.105397</td>\n",
       "    </tr>\n",
       "  </tbody>\n",
       "</table>\n",
       "</div>"
      ],
      "text/plain": [
       "         std_payments  years_diff       inm      outm\n",
       "user_id                                              \n",
       "1           -0.063562   -0.225773 -0.684621 -0.074758\n",
       "2           -0.183503    0.478388  0.263494 -0.031266\n",
       "3           -0.389522    1.182549 -0.039515 -0.090425\n",
       "4           -0.191845    1.886710 -0.084006 -0.114299\n",
       "5           -0.382442   -0.225773 -0.084006 -0.105397"
      ]
     },
     "execution_count": 184,
     "metadata": {},
     "output_type": "execute_result"
    }
   ],
   "source": [
    "X.head()"
   ]
  },
  {
   "cell_type": "code",
   "execution_count": 185,
   "metadata": {
    "collapsed": false
   },
   "outputs": [
    {
     "data": {
      "text/plain": [
       "array([1, 2, 2, ..., 1, 2, 2], dtype=int32)"
      ]
     },
     "execution_count": 185,
     "metadata": {},
     "output_type": "execute_result"
    }
   ],
   "source": [
    "result"
   ]
  },
  {
   "cell_type": "code",
   "execution_count": 191,
   "metadata": {
    "collapsed": false
   },
   "outputs": [],
   "source": [
    "X[\"class\"] = result"
   ]
  },
  {
   "cell_type": "code",
   "execution_count": 194,
   "metadata": {
    "collapsed": false
   },
   "outputs": [
    {
     "data": {
      "text/plain": [
       "2376.823548765947"
      ]
     },
     "execution_count": 194,
     "metadata": {},
     "output_type": "execute_result"
    }
   ],
   "source": [
    "np.std(X_saves.std_payments)"
   ]
  },
  {
   "cell_type": "code",
   "execution_count": 195,
   "metadata": {
    "collapsed": false
   },
   "outputs": [
    {
     "data": {
      "text/plain": [
       "1.4201293933100656"
      ]
     },
     "execution_count": 195,
     "metadata": {},
     "output_type": "execute_result"
    }
   ],
   "source": [
    "np.std(X_saves.years_diff)"
   ]
  },
  {
   "cell_type": "code",
   "execution_count": 196,
   "metadata": {
    "collapsed": false
   },
   "outputs": [
    {
     "data": {
      "text/plain": [
       "1.6648954808990701"
      ]
     },
     "execution_count": 196,
     "metadata": {},
     "output_type": "execute_result"
    }
   ],
   "source": [
    "np.std(X_saves.inm)"
   ]
  },
  {
   "cell_type": "code",
   "execution_count": 197,
   "metadata": {
    "collapsed": false
   },
   "outputs": [
    {
     "data": {
      "text/plain": [
       "13.852266659114214"
      ]
     },
     "execution_count": 197,
     "metadata": {},
     "output_type": "execute_result"
    }
   ],
   "source": [
    "np.std(X_saves.outm)"
   ]
  },
  {
   "cell_type": "code",
   "execution_count": 198,
   "metadata": {
    "collapsed": false
   },
   "outputs": [
    {
     "data": {
      "text/plain": [
       "2.326710935149357"
      ]
     },
     "execution_count": 198,
     "metadata": {},
     "output_type": "execute_result"
    }
   ],
   "source": [
    "np.mean(X_saves.std_payments)"
   ]
  },
  {
   "cell_type": "code",
   "execution_count": 199,
   "metadata": {
    "collapsed": false
   },
   "outputs": [
    {
     "data": {
      "text/plain": [
       "1.3205187586845761"
      ]
     },
     "execution_count": 199,
     "metadata": {},
     "output_type": "execute_result"
    }
   ],
   "source": [
    "np.mean(X_saves.years_diff)"
   ]
  },
  {
   "cell_type": "code",
   "execution_count": 200,
   "metadata": {
    "collapsed": false
   },
   "outputs": [
    {
     "data": {
      "text/plain": [
       "1.1399584168149104"
      ]
     },
     "execution_count": 200,
     "metadata": {},
     "output_type": "execute_result"
    }
   ],
   "source": [
    "np.mean(X_saves.inm)"
   ]
  },
  {
   "cell_type": "code",
   "execution_count": 201,
   "metadata": {
    "collapsed": false
   },
   "outputs": [
    {
     "data": {
      "text/plain": [
       "2.326710935149357"
      ]
     },
     "execution_count": 201,
     "metadata": {},
     "output_type": "execute_result"
    }
   ],
   "source": [
    "np.mean(X_saves.outm)"
   ]
  },
  {
   "cell_type": "code",
   "execution_count": 202,
   "metadata": {
    "collapsed": true
   },
   "outputs": [],
   "source": [
    "X.std_payments = X.std_payments * np.std(X_saves.std_payments) + np.mean(X_saves.std_payments)"
   ]
  },
  {
   "cell_type": "code",
   "execution_count": 203,
   "metadata": {
    "collapsed": true
   },
   "outputs": [],
   "source": [
    "X.years_diff = X.years_diff * np.std(X_saves.years_diff) + np.mean(X_saves.years_diff)"
   ]
  },
  {
   "cell_type": "code",
   "execution_count": 204,
   "metadata": {
    "collapsed": true
   },
   "outputs": [],
   "source": [
    "X.inm = X.inm * np.std(X_saves.inm) + np.mean(X_saves.inm)"
   ]
  },
  {
   "cell_type": "code",
   "execution_count": 205,
   "metadata": {
    "collapsed": true
   },
   "outputs": [],
   "source": [
    "X.outm = X.outm * np.std(X_saves.outm) + np.mean(X_saves.outm)"
   ]
  },
  {
   "cell_type": "code",
   "execution_count": 209,
   "metadata": {
    "collapsed": false
   },
   "outputs": [],
   "source": [
    "X.years_diff = list(map(math.ceil, X.years_diff))"
   ]
  },
  {
   "cell_type": "code",
   "execution_count": 260,
   "metadata": {
    "collapsed": false
   },
   "outputs": [
    {
     "data": {
      "text/html": [
       "<div>\n",
       "<table border=\"1\" class=\"dataframe\">\n",
       "  <thead>\n",
       "    <tr style=\"text-align: right;\">\n",
       "      <th></th>\n",
       "      <th>std_payments</th>\n",
       "      <th>years_diff</th>\n",
       "      <th>inm</th>\n",
       "      <th>outm</th>\n",
       "      <th>class</th>\n",
       "    </tr>\n",
       "  </thead>\n",
       "  <tbody>\n",
       "    <tr>\n",
       "      <th>count</th>\n",
       "      <td>257.000000</td>\n",
       "      <td>257.000000</td>\n",
       "      <td>257.000000</td>\n",
       "      <td>257.000000</td>\n",
       "      <td>257.0</td>\n",
       "    </tr>\n",
       "    <tr>\n",
       "      <th>mean</th>\n",
       "      <td>12905.292408</td>\n",
       "      <td>1.136187</td>\n",
       "      <td>13811.508583</td>\n",
       "      <td>9120.142651</td>\n",
       "      <td>0.0</td>\n",
       "    </tr>\n",
       "    <tr>\n",
       "      <th>std</th>\n",
       "      <td>10428.148021</td>\n",
       "      <td>1.212296</td>\n",
       "      <td>14266.497778</td>\n",
       "      <td>7680.492997</td>\n",
       "      <td>0.0</td>\n",
       "    </tr>\n",
       "    <tr>\n",
       "      <th>min</th>\n",
       "      <td>-0.020705</td>\n",
       "      <td>-2.000000</td>\n",
       "      <td>0.000000</td>\n",
       "      <td>40.002144</td>\n",
       "      <td>0.0</td>\n",
       "    </tr>\n",
       "    <tr>\n",
       "      <th>25%</th>\n",
       "      <td>7953.360294</td>\n",
       "      <td>0.000000</td>\n",
       "      <td>4928.494778</td>\n",
       "      <td>4375.430156</td>\n",
       "      <td>0.0</td>\n",
       "    </tr>\n",
       "    <tr>\n",
       "      <th>50%</th>\n",
       "      <td>10168.818335</td>\n",
       "      <td>1.000000</td>\n",
       "      <td>9391.612202</td>\n",
       "      <td>7139.912426</td>\n",
       "      <td>0.0</td>\n",
       "    </tr>\n",
       "    <tr>\n",
       "      <th>75%</th>\n",
       "      <td>14542.143504</td>\n",
       "      <td>2.000000</td>\n",
       "      <td>18356.496081</td>\n",
       "      <td>11412.056623</td>\n",
       "      <td>0.0</td>\n",
       "    </tr>\n",
       "    <tr>\n",
       "      <th>max</th>\n",
       "      <td>87720.383768</td>\n",
       "      <td>4.000000</td>\n",
       "      <td>90608.881248</td>\n",
       "      <td>55957.644053</td>\n",
       "      <td>0.0</td>\n",
       "    </tr>\n",
       "  </tbody>\n",
       "</table>\n",
       "</div>"
      ],
      "text/plain": [
       "       std_payments  years_diff           inm          outm  class\n",
       "count    257.000000  257.000000    257.000000    257.000000  257.0\n",
       "mean   12905.292408    1.136187  13811.508583   9120.142651    0.0\n",
       "std    10428.148021    1.212296  14266.497778   7680.492997    0.0\n",
       "min       -0.020705   -2.000000      0.000000     40.002144    0.0\n",
       "25%     7953.360294    0.000000   4928.494778   4375.430156    0.0\n",
       "50%    10168.818335    1.000000   9391.612202   7139.912426    0.0\n",
       "75%    14542.143504    2.000000  18356.496081  11412.056623    0.0\n",
       "max    87720.383768    4.000000  90608.881248  55957.644053    0.0"
      ]
     },
     "execution_count": 260,
     "metadata": {},
     "output_type": "execute_result"
    }
   ],
   "source": [
    "X[X[\"class\"] == 0].describe()"
   ]
  },
  {
   "cell_type": "code",
   "execution_count": 261,
   "metadata": {
    "collapsed": false
   },
   "outputs": [
    {
     "data": {
      "text/html": [
       "<div>\n",
       "<table border=\"1\" class=\"dataframe\">\n",
       "  <thead>\n",
       "    <tr style=\"text-align: right;\">\n",
       "      <th></th>\n",
       "      <th>std_payments</th>\n",
       "      <th>years_diff</th>\n",
       "      <th>inm</th>\n",
       "      <th>outm</th>\n",
       "      <th>class</th>\n",
       "    </tr>\n",
       "  </thead>\n",
       "  <tbody>\n",
       "    <tr>\n",
       "      <th>count</th>\n",
       "      <td>8616.000000</td>\n",
       "      <td>8616.000000</td>\n",
       "      <td>8616.000000</td>\n",
       "      <td>8616.000000</td>\n",
       "      <td>8616.0</td>\n",
       "    </tr>\n",
       "    <tr>\n",
       "      <th>mean</th>\n",
       "      <td>764.507694</td>\n",
       "      <td>0.298747</td>\n",
       "      <td>1366.227790</td>\n",
       "      <td>961.574846</td>\n",
       "      <td>1.0</td>\n",
       "    </tr>\n",
       "    <tr>\n",
       "      <th>std</th>\n",
       "      <td>1175.615725</td>\n",
       "      <td>0.746983</td>\n",
       "      <td>2873.046768</td>\n",
       "      <td>1719.297178</td>\n",
       "      <td>0.0</td>\n",
       "    </tr>\n",
       "    <tr>\n",
       "      <th>min</th>\n",
       "      <td>-0.020705</td>\n",
       "      <td>-2.000000</td>\n",
       "      <td>0.000000</td>\n",
       "      <td>10.000536</td>\n",
       "      <td>1.0</td>\n",
       "    </tr>\n",
       "    <tr>\n",
       "      <th>25%</th>\n",
       "      <td>9.978691</td>\n",
       "      <td>0.000000</td>\n",
       "      <td>50.004901</td>\n",
       "      <td>175.009378</td>\n",
       "      <td>1.0</td>\n",
       "    </tr>\n",
       "    <tr>\n",
       "      <th>50%</th>\n",
       "      <td>303.695886</td>\n",
       "      <td>0.000000</td>\n",
       "      <td>645.871785</td>\n",
       "      <td>487.109433</td>\n",
       "      <td>1.0</td>\n",
       "    </tr>\n",
       "    <tr>\n",
       "      <th>75%</th>\n",
       "      <td>954.921623</td>\n",
       "      <td>1.000000</td>\n",
       "      <td>1700.166646</td>\n",
       "      <td>1100.058949</td>\n",
       "      <td>1.0</td>\n",
       "    </tr>\n",
       "    <tr>\n",
       "      <th>max</th>\n",
       "      <td>7963.038343</td>\n",
       "      <td>1.000000</td>\n",
       "      <td>163015.978405</td>\n",
       "      <td>79604.265733</td>\n",
       "      <td>1.0</td>\n",
       "    </tr>\n",
       "  </tbody>\n",
       "</table>\n",
       "</div>"
      ],
      "text/plain": [
       "       std_payments   years_diff            inm          outm   class\n",
       "count   8616.000000  8616.000000    8616.000000   8616.000000  8616.0\n",
       "mean     764.507694     0.298747    1366.227790    961.574846     1.0\n",
       "std     1175.615725     0.746983    2873.046768   1719.297178     0.0\n",
       "min       -0.020705    -2.000000       0.000000     10.000536     1.0\n",
       "25%        9.978691     0.000000      50.004901    175.009378     1.0\n",
       "50%      303.695886     0.000000     645.871785    487.109433     1.0\n",
       "75%      954.921623     1.000000    1700.166646   1100.058949     1.0\n",
       "max     7963.038343     1.000000  163015.978405  79604.265733     1.0"
      ]
     },
     "execution_count": 261,
     "metadata": {},
     "output_type": "execute_result"
    }
   ],
   "source": [
    "X[X[\"class\"] == 1].describe()"
   ]
  },
  {
   "cell_type": "code",
   "execution_count": 262,
   "metadata": {
    "collapsed": false
   },
   "outputs": [
    {
     "data": {
      "text/html": [
       "<div>\n",
       "<table border=\"1\" class=\"dataframe\">\n",
       "  <thead>\n",
       "    <tr style=\"text-align: right;\">\n",
       "      <th></th>\n",
       "      <th>std_payments</th>\n",
       "      <th>years_diff</th>\n",
       "      <th>inm</th>\n",
       "      <th>outm</th>\n",
       "      <th>class</th>\n",
       "    </tr>\n",
       "  </thead>\n",
       "  <tbody>\n",
       "    <tr>\n",
       "      <th>count</th>\n",
       "      <td>6236.000000</td>\n",
       "      <td>6236.000000</td>\n",
       "      <td>6236.000000</td>\n",
       "      <td>6236.000000</td>\n",
       "      <td>6236.0</td>\n",
       "    </tr>\n",
       "    <tr>\n",
       "      <th>mean</th>\n",
       "      <td>748.567147</td>\n",
       "      <td>2.740539</td>\n",
       "      <td>1179.442836</td>\n",
       "      <td>778.556147</td>\n",
       "      <td>2.0</td>\n",
       "    </tr>\n",
       "    <tr>\n",
       "      <th>std</th>\n",
       "      <td>1107.630932</td>\n",
       "      <td>0.771608</td>\n",
       "      <td>1983.061416</td>\n",
       "      <td>1177.096693</td>\n",
       "      <td>0.0</td>\n",
       "    </tr>\n",
       "    <tr>\n",
       "      <th>min</th>\n",
       "      <td>-0.020705</td>\n",
       "      <td>2.000000</td>\n",
       "      <td>0.000000</td>\n",
       "      <td>10.000536</td>\n",
       "      <td>2.0</td>\n",
       "    </tr>\n",
       "    <tr>\n",
       "      <th>25%</th>\n",
       "      <td>84.974162</td>\n",
       "      <td>2.000000</td>\n",
       "      <td>144.793803</td>\n",
       "      <td>184.010278</td>\n",
       "      <td>2.0</td>\n",
       "    </tr>\n",
       "    <tr>\n",
       "      <th>50%</th>\n",
       "      <td>349.958158</td>\n",
       "      <td>3.000000</td>\n",
       "      <td>600.058816</td>\n",
       "      <td>431.077728</td>\n",
       "      <td>2.0</td>\n",
       "    </tr>\n",
       "    <tr>\n",
       "      <th>75%</th>\n",
       "      <td>899.924944</td>\n",
       "      <td>3.000000</td>\n",
       "      <td>1400.137238</td>\n",
       "      <td>900.048231</td>\n",
       "      <td>2.0</td>\n",
       "    </tr>\n",
       "    <tr>\n",
       "      <th>max</th>\n",
       "      <td>8172.833157</td>\n",
       "      <td>4.000000</td>\n",
       "      <td>60005.881621</td>\n",
       "      <td>24001.286151</td>\n",
       "      <td>2.0</td>\n",
       "    </tr>\n",
       "  </tbody>\n",
       "</table>\n",
       "</div>"
      ],
      "text/plain": [
       "       std_payments   years_diff           inm          outm   class\n",
       "count   6236.000000  6236.000000   6236.000000   6236.000000  6236.0\n",
       "mean     748.567147     2.740539   1179.442836    778.556147     2.0\n",
       "std     1107.630932     0.771608   1983.061416   1177.096693     0.0\n",
       "min       -0.020705     2.000000      0.000000     10.000536     2.0\n",
       "25%       84.974162     2.000000    144.793803    184.010278     2.0\n",
       "50%      349.958158     3.000000    600.058816    431.077728     2.0\n",
       "75%      899.924944     3.000000   1400.137238    900.048231     2.0\n",
       "max     8172.833157     4.000000  60005.881621  24001.286151     2.0"
      ]
     },
     "execution_count": 262,
     "metadata": {},
     "output_type": "execute_result"
    }
   ],
   "source": [
    "X[X[\"class\"] == 2].describe()"
   ]
  },
  {
   "cell_type": "code",
   "execution_count": 231,
   "metadata": {
    "collapsed": false
   },
   "outputs": [
    {
     "data": {
      "text/plain": [
       "array([[  5.02283534e+00,  -1.29875903e-01,   1.84066633e+00,\n",
       "          8.30604579e-01],\n",
       "       [ -8.51520452e-02,  -7.19568825e-01,  -6.67575059e-02,\n",
       "         -2.40544692e-02],\n",
       "       [ -9.18587048e-02,   9.99846532e-01,   3.79069797e-03,\n",
       "         -1.94680135e-02]])"
      ]
     },
     "execution_count": 231,
     "metadata": {},
     "output_type": "execute_result"
    }
   ],
   "source": [
    "model.cluster_centers_[:3]"
   ]
  },
  {
   "cell_type": "code",
   "execution_count": 246,
   "metadata": {
    "collapsed": false
   },
   "outputs": [],
   "source": [
    "with open('very_important_save.pkl', 'wb') as f:\n",
    "    pickle.dump(X, f)"
   ]
  },
  {
   "cell_type": "code",
   "execution_count": 247,
   "metadata": {
    "collapsed": true
   },
   "outputs": [],
   "source": [
    "very_important_save = deepcopy(X)"
   ]
  },
  {
   "cell_type": "code",
   "execution_count": 278,
   "metadata": {
    "collapsed": false
   },
   "outputs": [
    {
     "data": {
      "text/html": [
       "<div>\n",
       "<table border=\"1\" class=\"dataframe\">\n",
       "  <thead>\n",
       "    <tr style=\"text-align: right;\">\n",
       "      <th></th>\n",
       "      <th>std_payments</th>\n",
       "      <th>years_diff</th>\n",
       "      <th>inm</th>\n",
       "      <th>outm</th>\n",
       "      <th>class</th>\n",
       "      <th>user_id</th>\n",
       "    </tr>\n",
       "    <tr>\n",
       "      <th>user_id</th>\n",
       "      <th></th>\n",
       "      <th></th>\n",
       "      <th></th>\n",
       "      <th></th>\n",
       "      <th></th>\n",
       "      <th></th>\n",
       "    </tr>\n",
       "  </thead>\n",
       "  <tbody>\n",
       "    <tr>\n",
       "      <th>1</th>\n",
       "      <td>815.822514</td>\n",
       "      <td>1</td>\n",
       "      <td>0.000000</td>\n",
       "      <td>968.359170</td>\n",
       "      <td>1</td>\n",
       "      <td>1</td>\n",
       "    </tr>\n",
       "    <tr>\n",
       "      <th>2</th>\n",
       "      <td>530.743811</td>\n",
       "      <td>2</td>\n",
       "      <td>552.526703</td>\n",
       "      <td>444.998786</td>\n",
       "      <td>2</td>\n",
       "      <td>2</td>\n",
       "    </tr>\n",
       "    <tr>\n",
       "      <th>3</th>\n",
       "      <td>41.072906</td>\n",
       "      <td>3</td>\n",
       "      <td>96.675239</td>\n",
       "      <td>96.671051</td>\n",
       "      <td>2</td>\n",
       "      <td>3</td>\n",
       "    </tr>\n",
       "    <tr>\n",
       "      <th>4</th>\n",
       "      <td>510.917017</td>\n",
       "      <td>4</td>\n",
       "      <td>1300.127435</td>\n",
       "      <td>743.403799</td>\n",
       "      <td>2</td>\n",
       "      <td>4</td>\n",
       "    </tr>\n",
       "    <tr>\n",
       "      <th>5</th>\n",
       "      <td>57.902954</td>\n",
       "      <td>1</td>\n",
       "      <td>400.039211</td>\n",
       "      <td>86.672902</td>\n",
       "      <td>1</td>\n",
       "      <td>5</td>\n",
       "    </tr>\n",
       "  </tbody>\n",
       "</table>\n",
       "</div>"
      ],
      "text/plain": [
       "         std_payments  years_diff          inm        outm  class  user_id\n",
       "user_id                                                                   \n",
       "1          815.822514           1     0.000000  968.359170      1        1\n",
       "2          530.743811           2   552.526703  444.998786      2        2\n",
       "3           41.072906           3    96.675239   96.671051      2        3\n",
       "4          510.917017           4  1300.127435  743.403799      2        4\n",
       "5           57.902954           1   400.039211   86.672902      1        5"
      ]
     },
     "execution_count": 278,
     "metadata": {},
     "output_type": "execute_result"
    }
   ],
   "source": [
    "X.head()"
   ]
  },
  {
   "cell_type": "code",
   "execution_count": 256,
   "metadata": {
    "collapsed": true
   },
   "outputs": [],
   "source": [
    "X.inm = X.inm * X_t.inm"
   ]
  },
  {
   "cell_type": "code",
   "execution_count": 257,
   "metadata": {
    "collapsed": true
   },
   "outputs": [],
   "source": [
    "X.outm = X.outm * X_t.outm"
   ]
  },
  {
   "cell_type": "code",
   "execution_count": 259,
   "metadata": {
    "collapsed": false
   },
   "outputs": [],
   "source": [
    "X.to_csv('final_classes.csv', sep=';', encoding='windows-1251')"
   ]
  },
  {
   "cell_type": "code",
   "execution_count": 264,
   "metadata": {
    "collapsed": false
   },
   "outputs": [
    {
     "ename": "KeyError",
     "evalue": "'user_id'",
     "output_type": "error",
     "traceback": [
      "\u001b[0;31m---------------------------------------------------------------------------\u001b[0m",
      "\u001b[0;31mKeyError\u001b[0m                                  Traceback (most recent call last)",
      "\u001b[0;32m/Users/alexajax/anaconda3/lib/python3.5/site-packages/pandas/indexes/base.py\u001b[0m in \u001b[0;36mget_loc\u001b[0;34m(self, key, method, tolerance)\u001b[0m\n\u001b[1;32m   1944\u001b[0m             \u001b[0;32mtry\u001b[0m\u001b[0;34m:\u001b[0m\u001b[0;34m\u001b[0m\u001b[0m\n\u001b[0;32m-> 1945\u001b[0;31m                 \u001b[0;32mreturn\u001b[0m \u001b[0mself\u001b[0m\u001b[0;34m.\u001b[0m\u001b[0m_engine\u001b[0m\u001b[0;34m.\u001b[0m\u001b[0mget_loc\u001b[0m\u001b[0;34m(\u001b[0m\u001b[0mkey\u001b[0m\u001b[0;34m)\u001b[0m\u001b[0;34m\u001b[0m\u001b[0m\n\u001b[0m\u001b[1;32m   1946\u001b[0m             \u001b[0;32mexcept\u001b[0m \u001b[0mKeyError\u001b[0m\u001b[0;34m:\u001b[0m\u001b[0;34m\u001b[0m\u001b[0m\n",
      "\u001b[0;32mpandas/index.pyx\u001b[0m in \u001b[0;36mpandas.index.IndexEngine.get_loc (pandas/index.c:4154)\u001b[0;34m()\u001b[0m\n",
      "\u001b[0;32mpandas/index.pyx\u001b[0m in \u001b[0;36mpandas.index.IndexEngine.get_loc (pandas/index.c:4018)\u001b[0;34m()\u001b[0m\n",
      "\u001b[0;32mpandas/hashtable.pyx\u001b[0m in \u001b[0;36mpandas.hashtable.PyObjectHashTable.get_item (pandas/hashtable.c:12368)\u001b[0;34m()\u001b[0m\n",
      "\u001b[0;32mpandas/hashtable.pyx\u001b[0m in \u001b[0;36mpandas.hashtable.PyObjectHashTable.get_item (pandas/hashtable.c:12322)\u001b[0;34m()\u001b[0m\n",
      "\u001b[0;31mKeyError\u001b[0m: 'user_id'",
      "\nDuring handling of the above exception, another exception occurred:\n",
      "\u001b[0;31mKeyError\u001b[0m                                  Traceback (most recent call last)",
      "\u001b[0;32m<ipython-input-264-660dcec0b968>\u001b[0m in \u001b[0;36m<module>\u001b[0;34m()\u001b[0m\n\u001b[0;32m----> 1\u001b[0;31m \u001b[0mpd\u001b[0m\u001b[0;34m.\u001b[0m\u001b[0mmerge\u001b[0m\u001b[0;34m(\u001b[0m\u001b[0mX\u001b[0m\u001b[0;34m,\u001b[0m \u001b[0mdata\u001b[0m\u001b[0;34m,\u001b[0m \u001b[0mon\u001b[0m\u001b[0;34m=\u001b[0m\u001b[0;34m'user_id'\u001b[0m\u001b[0;34m)\u001b[0m\u001b[0;34m\u001b[0m\u001b[0m\n\u001b[0m",
      "\u001b[0;32m/Users/alexajax/anaconda3/lib/python3.5/site-packages/pandas/tools/merge.py\u001b[0m in \u001b[0;36mmerge\u001b[0;34m(left, right, how, on, left_on, right_on, left_index, right_index, sort, suffixes, copy, indicator)\u001b[0m\n\u001b[1;32m     36\u001b[0m                          \u001b[0mright_on\u001b[0m\u001b[0;34m=\u001b[0m\u001b[0mright_on\u001b[0m\u001b[0;34m,\u001b[0m \u001b[0mleft_index\u001b[0m\u001b[0;34m=\u001b[0m\u001b[0mleft_index\u001b[0m\u001b[0;34m,\u001b[0m\u001b[0;34m\u001b[0m\u001b[0m\n\u001b[1;32m     37\u001b[0m                          \u001b[0mright_index\u001b[0m\u001b[0;34m=\u001b[0m\u001b[0mright_index\u001b[0m\u001b[0;34m,\u001b[0m \u001b[0msort\u001b[0m\u001b[0;34m=\u001b[0m\u001b[0msort\u001b[0m\u001b[0;34m,\u001b[0m \u001b[0msuffixes\u001b[0m\u001b[0;34m=\u001b[0m\u001b[0msuffixes\u001b[0m\u001b[0;34m,\u001b[0m\u001b[0;34m\u001b[0m\u001b[0m\n\u001b[0;32m---> 38\u001b[0;31m                          copy=copy, indicator=indicator)\n\u001b[0m\u001b[1;32m     39\u001b[0m     \u001b[0;32mreturn\u001b[0m \u001b[0mop\u001b[0m\u001b[0;34m.\u001b[0m\u001b[0mget_result\u001b[0m\u001b[0;34m(\u001b[0m\u001b[0;34m)\u001b[0m\u001b[0;34m\u001b[0m\u001b[0m\n\u001b[1;32m     40\u001b[0m \u001b[0;32mif\u001b[0m \u001b[0m__debug__\u001b[0m\u001b[0;34m:\u001b[0m\u001b[0;34m\u001b[0m\u001b[0m\n",
      "\u001b[0;32m/Users/alexajax/anaconda3/lib/python3.5/site-packages/pandas/tools/merge.py\u001b[0m in \u001b[0;36m__init__\u001b[0;34m(self, left, right, how, on, left_on, right_on, axis, left_index, right_index, sort, suffixes, copy, indicator)\u001b[0m\n\u001b[1;32m    208\u001b[0m         (self.left_join_keys,\n\u001b[1;32m    209\u001b[0m          \u001b[0mself\u001b[0m\u001b[0;34m.\u001b[0m\u001b[0mright_join_keys\u001b[0m\u001b[0;34m,\u001b[0m\u001b[0;34m\u001b[0m\u001b[0m\n\u001b[0;32m--> 210\u001b[0;31m          self.join_names) = self._get_merge_keys()\n\u001b[0m\u001b[1;32m    211\u001b[0m \u001b[0;34m\u001b[0m\u001b[0m\n\u001b[1;32m    212\u001b[0m     \u001b[0;32mdef\u001b[0m \u001b[0mget_result\u001b[0m\u001b[0;34m(\u001b[0m\u001b[0mself\u001b[0m\u001b[0;34m)\u001b[0m\u001b[0;34m:\u001b[0m\u001b[0;34m\u001b[0m\u001b[0m\n",
      "\u001b[0;32m/Users/alexajax/anaconda3/lib/python3.5/site-packages/pandas/tools/merge.py\u001b[0m in \u001b[0;36m_get_merge_keys\u001b[0;34m(self)\u001b[0m\n\u001b[1;32m    441\u001b[0m                     \u001b[0;32melse\u001b[0m\u001b[0;34m:\u001b[0m\u001b[0;34m\u001b[0m\u001b[0m\n\u001b[1;32m    442\u001b[0m                         \u001b[0mright_keys\u001b[0m\u001b[0;34m.\u001b[0m\u001b[0mappend\u001b[0m\u001b[0;34m(\u001b[0m\u001b[0mrk\u001b[0m\u001b[0;34m)\u001b[0m\u001b[0;34m\u001b[0m\u001b[0m\n\u001b[0;32m--> 443\u001b[0;31m                     \u001b[0mleft_keys\u001b[0m\u001b[0;34m.\u001b[0m\u001b[0mappend\u001b[0m\u001b[0;34m(\u001b[0m\u001b[0mleft\u001b[0m\u001b[0;34m[\u001b[0m\u001b[0mlk\u001b[0m\u001b[0;34m]\u001b[0m\u001b[0;34m.\u001b[0m\u001b[0m_values\u001b[0m\u001b[0;34m)\u001b[0m\u001b[0;34m\u001b[0m\u001b[0m\n\u001b[0m\u001b[1;32m    444\u001b[0m                     \u001b[0mjoin_names\u001b[0m\u001b[0;34m.\u001b[0m\u001b[0mappend\u001b[0m\u001b[0;34m(\u001b[0m\u001b[0mlk\u001b[0m\u001b[0;34m)\u001b[0m\u001b[0;34m\u001b[0m\u001b[0m\n\u001b[1;32m    445\u001b[0m         \u001b[0;32melif\u001b[0m \u001b[0m_any\u001b[0m\u001b[0;34m(\u001b[0m\u001b[0mself\u001b[0m\u001b[0;34m.\u001b[0m\u001b[0mleft_on\u001b[0m\u001b[0;34m)\u001b[0m\u001b[0;34m:\u001b[0m\u001b[0;34m\u001b[0m\u001b[0m\n",
      "\u001b[0;32m/Users/alexajax/anaconda3/lib/python3.5/site-packages/pandas/core/frame.py\u001b[0m in \u001b[0;36m__getitem__\u001b[0;34m(self, key)\u001b[0m\n\u001b[1;32m   1995\u001b[0m             \u001b[0;32mreturn\u001b[0m \u001b[0mself\u001b[0m\u001b[0;34m.\u001b[0m\u001b[0m_getitem_multilevel\u001b[0m\u001b[0;34m(\u001b[0m\u001b[0mkey\u001b[0m\u001b[0;34m)\u001b[0m\u001b[0;34m\u001b[0m\u001b[0m\n\u001b[1;32m   1996\u001b[0m         \u001b[0;32melse\u001b[0m\u001b[0;34m:\u001b[0m\u001b[0;34m\u001b[0m\u001b[0m\n\u001b[0;32m-> 1997\u001b[0;31m             \u001b[0;32mreturn\u001b[0m \u001b[0mself\u001b[0m\u001b[0;34m.\u001b[0m\u001b[0m_getitem_column\u001b[0m\u001b[0;34m(\u001b[0m\u001b[0mkey\u001b[0m\u001b[0;34m)\u001b[0m\u001b[0;34m\u001b[0m\u001b[0m\n\u001b[0m\u001b[1;32m   1998\u001b[0m \u001b[0;34m\u001b[0m\u001b[0m\n\u001b[1;32m   1999\u001b[0m     \u001b[0;32mdef\u001b[0m \u001b[0m_getitem_column\u001b[0m\u001b[0;34m(\u001b[0m\u001b[0mself\u001b[0m\u001b[0;34m,\u001b[0m \u001b[0mkey\u001b[0m\u001b[0;34m)\u001b[0m\u001b[0;34m:\u001b[0m\u001b[0;34m\u001b[0m\u001b[0m\n",
      "\u001b[0;32m/Users/alexajax/anaconda3/lib/python3.5/site-packages/pandas/core/frame.py\u001b[0m in \u001b[0;36m_getitem_column\u001b[0;34m(self, key)\u001b[0m\n\u001b[1;32m   2002\u001b[0m         \u001b[0;31m# get column\u001b[0m\u001b[0;34m\u001b[0m\u001b[0;34m\u001b[0m\u001b[0m\n\u001b[1;32m   2003\u001b[0m         \u001b[0;32mif\u001b[0m \u001b[0mself\u001b[0m\u001b[0;34m.\u001b[0m\u001b[0mcolumns\u001b[0m\u001b[0;34m.\u001b[0m\u001b[0mis_unique\u001b[0m\u001b[0;34m:\u001b[0m\u001b[0;34m\u001b[0m\u001b[0m\n\u001b[0;32m-> 2004\u001b[0;31m             \u001b[0;32mreturn\u001b[0m \u001b[0mself\u001b[0m\u001b[0;34m.\u001b[0m\u001b[0m_get_item_cache\u001b[0m\u001b[0;34m(\u001b[0m\u001b[0mkey\u001b[0m\u001b[0;34m)\u001b[0m\u001b[0;34m\u001b[0m\u001b[0m\n\u001b[0m\u001b[1;32m   2005\u001b[0m \u001b[0;34m\u001b[0m\u001b[0m\n\u001b[1;32m   2006\u001b[0m         \u001b[0;31m# duplicate columns & possible reduce dimensionality\u001b[0m\u001b[0;34m\u001b[0m\u001b[0;34m\u001b[0m\u001b[0m\n",
      "\u001b[0;32m/Users/alexajax/anaconda3/lib/python3.5/site-packages/pandas/core/generic.py\u001b[0m in \u001b[0;36m_get_item_cache\u001b[0;34m(self, item)\u001b[0m\n\u001b[1;32m   1348\u001b[0m         \u001b[0mres\u001b[0m \u001b[0;34m=\u001b[0m \u001b[0mcache\u001b[0m\u001b[0;34m.\u001b[0m\u001b[0mget\u001b[0m\u001b[0;34m(\u001b[0m\u001b[0mitem\u001b[0m\u001b[0;34m)\u001b[0m\u001b[0;34m\u001b[0m\u001b[0m\n\u001b[1;32m   1349\u001b[0m         \u001b[0;32mif\u001b[0m \u001b[0mres\u001b[0m \u001b[0;32mis\u001b[0m \u001b[0;32mNone\u001b[0m\u001b[0;34m:\u001b[0m\u001b[0;34m\u001b[0m\u001b[0m\n\u001b[0;32m-> 1350\u001b[0;31m             \u001b[0mvalues\u001b[0m \u001b[0;34m=\u001b[0m \u001b[0mself\u001b[0m\u001b[0;34m.\u001b[0m\u001b[0m_data\u001b[0m\u001b[0;34m.\u001b[0m\u001b[0mget\u001b[0m\u001b[0;34m(\u001b[0m\u001b[0mitem\u001b[0m\u001b[0;34m)\u001b[0m\u001b[0;34m\u001b[0m\u001b[0m\n\u001b[0m\u001b[1;32m   1351\u001b[0m             \u001b[0mres\u001b[0m \u001b[0;34m=\u001b[0m \u001b[0mself\u001b[0m\u001b[0;34m.\u001b[0m\u001b[0m_box_item_values\u001b[0m\u001b[0;34m(\u001b[0m\u001b[0mitem\u001b[0m\u001b[0;34m,\u001b[0m \u001b[0mvalues\u001b[0m\u001b[0;34m)\u001b[0m\u001b[0;34m\u001b[0m\u001b[0m\n\u001b[1;32m   1352\u001b[0m             \u001b[0mcache\u001b[0m\u001b[0;34m[\u001b[0m\u001b[0mitem\u001b[0m\u001b[0;34m]\u001b[0m \u001b[0;34m=\u001b[0m \u001b[0mres\u001b[0m\u001b[0;34m\u001b[0m\u001b[0m\n",
      "\u001b[0;32m/Users/alexajax/anaconda3/lib/python3.5/site-packages/pandas/core/internals.py\u001b[0m in \u001b[0;36mget\u001b[0;34m(self, item, fastpath)\u001b[0m\n\u001b[1;32m   3288\u001b[0m \u001b[0;34m\u001b[0m\u001b[0m\n\u001b[1;32m   3289\u001b[0m             \u001b[0;32mif\u001b[0m \u001b[0;32mnot\u001b[0m \u001b[0misnull\u001b[0m\u001b[0;34m(\u001b[0m\u001b[0mitem\u001b[0m\u001b[0;34m)\u001b[0m\u001b[0;34m:\u001b[0m\u001b[0;34m\u001b[0m\u001b[0m\n\u001b[0;32m-> 3290\u001b[0;31m                 \u001b[0mloc\u001b[0m \u001b[0;34m=\u001b[0m \u001b[0mself\u001b[0m\u001b[0;34m.\u001b[0m\u001b[0mitems\u001b[0m\u001b[0;34m.\u001b[0m\u001b[0mget_loc\u001b[0m\u001b[0;34m(\u001b[0m\u001b[0mitem\u001b[0m\u001b[0;34m)\u001b[0m\u001b[0;34m\u001b[0m\u001b[0m\n\u001b[0m\u001b[1;32m   3291\u001b[0m             \u001b[0;32melse\u001b[0m\u001b[0;34m:\u001b[0m\u001b[0;34m\u001b[0m\u001b[0m\n\u001b[1;32m   3292\u001b[0m                 \u001b[0mindexer\u001b[0m \u001b[0;34m=\u001b[0m \u001b[0mnp\u001b[0m\u001b[0;34m.\u001b[0m\u001b[0marange\u001b[0m\u001b[0;34m(\u001b[0m\u001b[0mlen\u001b[0m\u001b[0;34m(\u001b[0m\u001b[0mself\u001b[0m\u001b[0;34m.\u001b[0m\u001b[0mitems\u001b[0m\u001b[0;34m)\u001b[0m\u001b[0;34m)\u001b[0m\u001b[0;34m[\u001b[0m\u001b[0misnull\u001b[0m\u001b[0;34m(\u001b[0m\u001b[0mself\u001b[0m\u001b[0;34m.\u001b[0m\u001b[0mitems\u001b[0m\u001b[0;34m)\u001b[0m\u001b[0;34m]\u001b[0m\u001b[0;34m\u001b[0m\u001b[0m\n",
      "\u001b[0;32m/Users/alexajax/anaconda3/lib/python3.5/site-packages/pandas/indexes/base.py\u001b[0m in \u001b[0;36mget_loc\u001b[0;34m(self, key, method, tolerance)\u001b[0m\n\u001b[1;32m   1945\u001b[0m                 \u001b[0;32mreturn\u001b[0m \u001b[0mself\u001b[0m\u001b[0;34m.\u001b[0m\u001b[0m_engine\u001b[0m\u001b[0;34m.\u001b[0m\u001b[0mget_loc\u001b[0m\u001b[0;34m(\u001b[0m\u001b[0mkey\u001b[0m\u001b[0;34m)\u001b[0m\u001b[0;34m\u001b[0m\u001b[0m\n\u001b[1;32m   1946\u001b[0m             \u001b[0;32mexcept\u001b[0m \u001b[0mKeyError\u001b[0m\u001b[0;34m:\u001b[0m\u001b[0;34m\u001b[0m\u001b[0m\n\u001b[0;32m-> 1947\u001b[0;31m                 \u001b[0;32mreturn\u001b[0m \u001b[0mself\u001b[0m\u001b[0;34m.\u001b[0m\u001b[0m_engine\u001b[0m\u001b[0;34m.\u001b[0m\u001b[0mget_loc\u001b[0m\u001b[0;34m(\u001b[0m\u001b[0mself\u001b[0m\u001b[0;34m.\u001b[0m\u001b[0m_maybe_cast_indexer\u001b[0m\u001b[0;34m(\u001b[0m\u001b[0mkey\u001b[0m\u001b[0;34m)\u001b[0m\u001b[0;34m)\u001b[0m\u001b[0;34m\u001b[0m\u001b[0m\n\u001b[0m\u001b[1;32m   1948\u001b[0m \u001b[0;34m\u001b[0m\u001b[0m\n\u001b[1;32m   1949\u001b[0m         \u001b[0mindexer\u001b[0m \u001b[0;34m=\u001b[0m \u001b[0mself\u001b[0m\u001b[0;34m.\u001b[0m\u001b[0mget_indexer\u001b[0m\u001b[0;34m(\u001b[0m\u001b[0;34m[\u001b[0m\u001b[0mkey\u001b[0m\u001b[0;34m]\u001b[0m\u001b[0;34m,\u001b[0m \u001b[0mmethod\u001b[0m\u001b[0;34m=\u001b[0m\u001b[0mmethod\u001b[0m\u001b[0;34m,\u001b[0m \u001b[0mtolerance\u001b[0m\u001b[0;34m=\u001b[0m\u001b[0mtolerance\u001b[0m\u001b[0;34m)\u001b[0m\u001b[0;34m\u001b[0m\u001b[0m\n",
      "\u001b[0;32mpandas/index.pyx\u001b[0m in \u001b[0;36mpandas.index.IndexEngine.get_loc (pandas/index.c:4154)\u001b[0;34m()\u001b[0m\n",
      "\u001b[0;32mpandas/index.pyx\u001b[0m in \u001b[0;36mpandas.index.IndexEngine.get_loc (pandas/index.c:4018)\u001b[0;34m()\u001b[0m\n",
      "\u001b[0;32mpandas/hashtable.pyx\u001b[0m in \u001b[0;36mpandas.hashtable.PyObjectHashTable.get_item (pandas/hashtable.c:12368)\u001b[0;34m()\u001b[0m\n",
      "\u001b[0;32mpandas/hashtable.pyx\u001b[0m in \u001b[0;36mpandas.hashtable.PyObjectHashTable.get_item (pandas/hashtable.c:12322)\u001b[0;34m()\u001b[0m\n",
      "\u001b[0;31mKeyError\u001b[0m: 'user_id'"
     ]
    }
   ],
   "source": [
    "pd.merge(X, data, on='user_id')"
   ]
  },
  {
   "cell_type": "code",
   "execution_count": 267,
   "metadata": {
    "collapsed": false
   },
   "outputs": [],
   "source": [
    "X[\"user_id\"] = X.index"
   ]
  },
  {
   "cell_type": "code",
   "execution_count": 269,
   "metadata": {
    "collapsed": false
   },
   "outputs": [],
   "source": [
    "final = pd.merge(X, data, on='user_id')"
   ]
  },
  {
   "cell_type": "code",
   "execution_count": 272,
   "metadata": {
    "collapsed": false
   },
   "outputs": [
    {
     "data": {
      "text/plain": [
       "{26,\n",
       " 34,\n",
       " 84,\n",
       " 87,\n",
       " 106,\n",
       " 114,\n",
       " 333,\n",
       " 349,\n",
       " 369,\n",
       " 375,\n",
       " 473,\n",
       " 490,\n",
       " 511,\n",
       " 717,\n",
       " 741,\n",
       " 794,\n",
       " 937,\n",
       " 989,\n",
       " 1085,\n",
       " 1114,\n",
       " 1245,\n",
       " 1321,\n",
       " 1322,\n",
       " 1341,\n",
       " 1641,\n",
       " 1663,\n",
       " 1698,\n",
       " 1776,\n",
       " 1839,\n",
       " 1958,\n",
       " 1965,\n",
       " 2049,\n",
       " 2077,\n",
       " 2142,\n",
       " 2297,\n",
       " 2321,\n",
       " 2408,\n",
       " 2466,\n",
       " 2521,\n",
       " 2589,\n",
       " 2620,\n",
       " 2710,\n",
       " 2742,\n",
       " 2843,\n",
       " 2858,\n",
       " 2860,\n",
       " 2904,\n",
       " 3006,\n",
       " 3244,\n",
       " 3262,\n",
       " 3300,\n",
       " 3307,\n",
       " 3420,\n",
       " 3467,\n",
       " 3501,\n",
       " 3598,\n",
       " 3607,\n",
       " 3672,\n",
       " 3721,\n",
       " 3743,\n",
       " 3759,\n",
       " 3850,\n",
       " 3933,\n",
       " 3950,\n",
       " 3988,\n",
       " 4049,\n",
       " 4097,\n",
       " 4132,\n",
       " 4277,\n",
       " 4304,\n",
       " 4329,\n",
       " 4341,\n",
       " 4397,\n",
       " 4438,\n",
       " 4461,\n",
       " 4466,\n",
       " 4725,\n",
       " 4752,\n",
       " 4849,\n",
       " 4890,\n",
       " 4910,\n",
       " 4929,\n",
       " 4934,\n",
       " 4995,\n",
       " 4998,\n",
       " 5024,\n",
       " 5060,\n",
       " 5170,\n",
       " 5256,\n",
       " 5274,\n",
       " 5292,\n",
       " 5341,\n",
       " 5344,\n",
       " 5350,\n",
       " 5423,\n",
       " 5470,\n",
       " 5491,\n",
       " 5548,\n",
       " 5585,\n",
       " 5625,\n",
       " 5653,\n",
       " 5677,\n",
       " 5735,\n",
       " 5747,\n",
       " 5824,\n",
       " 5840,\n",
       " 5880,\n",
       " 5896,\n",
       " 6133,\n",
       " 6137,\n",
       " 6170,\n",
       " 6275,\n",
       " 6283,\n",
       " 6290,\n",
       " 6380,\n",
       " 6390,\n",
       " 6593,\n",
       " 6616,\n",
       " 6619,\n",
       " 6679,\n",
       " 6689,\n",
       " 6782,\n",
       " 6797,\n",
       " 6811,\n",
       " 6887,\n",
       " 6971,\n",
       " 7014,\n",
       " 7051,\n",
       " 7175,\n",
       " 7205,\n",
       " 7256,\n",
       " 7292,\n",
       " 7313,\n",
       " 7326,\n",
       " 7367,\n",
       " 7384,\n",
       " 7411,\n",
       " 7437,\n",
       " 7559,\n",
       " 7573,\n",
       " 7708,\n",
       " 7747,\n",
       " 7752,\n",
       " 7780,\n",
       " 7911,\n",
       " 7926,\n",
       " 7939,\n",
       " 8026,\n",
       " 8028,\n",
       " 8173,\n",
       " 8260,\n",
       " 8461,\n",
       " 8500,\n",
       " 8571,\n",
       " 8583,\n",
       " 8689,\n",
       " 8733,\n",
       " 8736,\n",
       " 8807,\n",
       " 8814,\n",
       " 8881,\n",
       " 8931,\n",
       " 8949,\n",
       " 9100,\n",
       " 9108,\n",
       " 9162,\n",
       " 9187,\n",
       " 9193,\n",
       " 9290,\n",
       " 9416,\n",
       " 9426,\n",
       " 9480,\n",
       " 9481,\n",
       " 9490,\n",
       " 9530,\n",
       " 9673,\n",
       " 9730,\n",
       " 9766,\n",
       " 9835,\n",
       " 9890,\n",
       " 9944,\n",
       " 10133,\n",
       " 10172,\n",
       " 10181,\n",
       " 10194,\n",
       " 10204,\n",
       " 10317,\n",
       " 10355,\n",
       " 10372,\n",
       " 10453,\n",
       " 10589,\n",
       " 10622,\n",
       " 10729,\n",
       " 10872,\n",
       " 10891,\n",
       " 10930,\n",
       " 10992,\n",
       " 11075,\n",
       " 11149,\n",
       " 11355,\n",
       " 11410,\n",
       " 11541,\n",
       " 11587,\n",
       " 11644,\n",
       " 11842,\n",
       " 11867,\n",
       " 11871,\n",
       " 11875,\n",
       " 12127,\n",
       " 12238,\n",
       " 12285,\n",
       " 12355,\n",
       " 12530,\n",
       " 12581,\n",
       " 12607,\n",
       " 12619,\n",
       " 12628,\n",
       " 12935,\n",
       " 12943,\n",
       " 12958,\n",
       " 13080,\n",
       " 13164,\n",
       " 13192,\n",
       " 13263,\n",
       " 13345,\n",
       " 13376,\n",
       " 13397,\n",
       " 13466,\n",
       " 13480,\n",
       " 13539,\n",
       " 13748,\n",
       " 13774,\n",
       " 13797,\n",
       " 13820,\n",
       " 13847,\n",
       " 13968,\n",
       " 14009,\n",
       " 14018,\n",
       " 14056,\n",
       " 14103,\n",
       " 14133,\n",
       " 14169,\n",
       " 14183,\n",
       " 14184,\n",
       " 14376,\n",
       " 14402,\n",
       " 14438,\n",
       " 14536,\n",
       " 14556,\n",
       " 14699,\n",
       " 14745,\n",
       " 14783,\n",
       " 14793,\n",
       " 14802,\n",
       " 14867,\n",
       " 15063,\n",
       " 15102}"
      ]
     },
     "execution_count": 272,
     "metadata": {},
     "output_type": "execute_result"
    }
   ],
   "source": [
    "set(final[final[\"class\"] == 0].user_id.values)"
   ]
  },
  {
   "cell_type": "code",
   "execution_count": 276,
   "metadata": {
    "collapsed": false
   },
   "outputs": [
    {
     "data": {
      "text/html": [
       "<div>\n",
       "<table border=\"1\" class=\"dataframe\">\n",
       "  <thead>\n",
       "    <tr style=\"text-align: right;\">\n",
       "      <th></th>\n",
       "      <th>category</th>\n",
       "      <th>txn_count</th>\n",
       "      <th>payment</th>\n",
       "      <th>user_id</th>\n",
       "      <th>type</th>\n",
       "      <th>sex</th>\n",
       "      <th>university</th>\n",
       "      <th>faculty</th>\n",
       "      <th>graduation_year</th>\n",
       "      <th>year</th>\n",
       "      <th>month</th>\n",
       "    </tr>\n",
       "  </thead>\n",
       "  <tbody>\n",
       "    <tr>\n",
       "      <th>269071</th>\n",
       "      <td>QIWI</td>\n",
       "      <td>2</td>\n",
       "      <td>15700</td>\n",
       "      <td>14376</td>\n",
       "      <td>income</td>\n",
       "      <td>Жен</td>\n",
       "      <td>СПбГУ</td>\n",
       "      <td>Медицинский</td>\n",
       "      <td>2018</td>\n",
       "      <td>2014</td>\n",
       "      <td>08</td>\n",
       "    </tr>\n",
       "    <tr>\n",
       "      <th>269072</th>\n",
       "      <td>QIWI</td>\n",
       "      <td>2</td>\n",
       "      <td>17200</td>\n",
       "      <td>14376</td>\n",
       "      <td>income</td>\n",
       "      <td>Жен</td>\n",
       "      <td>СПбГУ</td>\n",
       "      <td>Медицинский</td>\n",
       "      <td>2018</td>\n",
       "      <td>2014</td>\n",
       "      <td>09</td>\n",
       "    </tr>\n",
       "    <tr>\n",
       "      <th>269073</th>\n",
       "      <td>QIWI</td>\n",
       "      <td>2</td>\n",
       "      <td>19800</td>\n",
       "      <td>14376</td>\n",
       "      <td>income</td>\n",
       "      <td>Жен</td>\n",
       "      <td>СПбГУ</td>\n",
       "      <td>Медицинский</td>\n",
       "      <td>2018</td>\n",
       "      <td>2014</td>\n",
       "      <td>10</td>\n",
       "    </tr>\n",
       "    <tr>\n",
       "      <th>269074</th>\n",
       "      <td>QIWI</td>\n",
       "      <td>6</td>\n",
       "      <td>67900</td>\n",
       "      <td>14376</td>\n",
       "      <td>income</td>\n",
       "      <td>Жен</td>\n",
       "      <td>СПбГУ</td>\n",
       "      <td>Медицинский</td>\n",
       "      <td>2018</td>\n",
       "      <td>2014</td>\n",
       "      <td>11</td>\n",
       "    </tr>\n",
       "    <tr>\n",
       "      <th>269075</th>\n",
       "      <td>QIWI</td>\n",
       "      <td>11</td>\n",
       "      <td>140300</td>\n",
       "      <td>14376</td>\n",
       "      <td>income</td>\n",
       "      <td>Жен</td>\n",
       "      <td>СПбГУ</td>\n",
       "      <td>Медицинский</td>\n",
       "      <td>2018</td>\n",
       "      <td>2014</td>\n",
       "      <td>12</td>\n",
       "    </tr>\n",
       "    <tr>\n",
       "      <th>269076</th>\n",
       "      <td>QIWI</td>\n",
       "      <td>3</td>\n",
       "      <td>22200</td>\n",
       "      <td>14376</td>\n",
       "      <td>income</td>\n",
       "      <td>Жен</td>\n",
       "      <td>СПбГУ</td>\n",
       "      <td>Медицинский</td>\n",
       "      <td>2018</td>\n",
       "      <td>2015</td>\n",
       "      <td>01</td>\n",
       "    </tr>\n",
       "    <tr>\n",
       "      <th>269077</th>\n",
       "      <td>QIWI</td>\n",
       "      <td>1</td>\n",
       "      <td>13400</td>\n",
       "      <td>14376</td>\n",
       "      <td>income</td>\n",
       "      <td>Жен</td>\n",
       "      <td>СПбГУ</td>\n",
       "      <td>Медицинский</td>\n",
       "      <td>2018</td>\n",
       "      <td>2015</td>\n",
       "      <td>03</td>\n",
       "    </tr>\n",
       "    <tr>\n",
       "      <th>269078</th>\n",
       "      <td>QIWI</td>\n",
       "      <td>1</td>\n",
       "      <td>3300</td>\n",
       "      <td>14376</td>\n",
       "      <td>income</td>\n",
       "      <td>Жен</td>\n",
       "      <td>СПбГУ</td>\n",
       "      <td>Медицинский</td>\n",
       "      <td>2018</td>\n",
       "      <td>2015</td>\n",
       "      <td>04</td>\n",
       "    </tr>\n",
       "    <tr>\n",
       "      <th>269079</th>\n",
       "      <td>QIWI</td>\n",
       "      <td>1</td>\n",
       "      <td>6600</td>\n",
       "      <td>14376</td>\n",
       "      <td>income</td>\n",
       "      <td>Жен</td>\n",
       "      <td>СПбГУ</td>\n",
       "      <td>Медицинский</td>\n",
       "      <td>2018</td>\n",
       "      <td>2015</td>\n",
       "      <td>05</td>\n",
       "    </tr>\n",
       "    <tr>\n",
       "      <th>269080</th>\n",
       "      <td>QIWI</td>\n",
       "      <td>2</td>\n",
       "      <td>1700</td>\n",
       "      <td>14376</td>\n",
       "      <td>income</td>\n",
       "      <td>Жен</td>\n",
       "      <td>СПбГУ</td>\n",
       "      <td>Медицинский</td>\n",
       "      <td>2018</td>\n",
       "      <td>2016</td>\n",
       "      <td>04</td>\n",
       "    </tr>\n",
       "    <tr>\n",
       "      <th>269081</th>\n",
       "      <td>VPP</td>\n",
       "      <td>1</td>\n",
       "      <td>3200</td>\n",
       "      <td>14376</td>\n",
       "      <td>outcome</td>\n",
       "      <td>Жен</td>\n",
       "      <td>СПбГУ</td>\n",
       "      <td>Медицинский</td>\n",
       "      <td>2018</td>\n",
       "      <td>2015</td>\n",
       "      <td>04</td>\n",
       "    </tr>\n",
       "    <tr>\n",
       "      <th>269082</th>\n",
       "      <td>VPP</td>\n",
       "      <td>2</td>\n",
       "      <td>1600</td>\n",
       "      <td>14376</td>\n",
       "      <td>outcome</td>\n",
       "      <td>Жен</td>\n",
       "      <td>СПбГУ</td>\n",
       "      <td>Медицинский</td>\n",
       "      <td>2018</td>\n",
       "      <td>2016</td>\n",
       "      <td>04</td>\n",
       "    </tr>\n",
       "    <tr>\n",
       "      <th>269083</th>\n",
       "      <td>Денежные переводы</td>\n",
       "      <td>2</td>\n",
       "      <td>15700</td>\n",
       "      <td>14376</td>\n",
       "      <td>outcome</td>\n",
       "      <td>Жен</td>\n",
       "      <td>СПбГУ</td>\n",
       "      <td>Медицинский</td>\n",
       "      <td>2018</td>\n",
       "      <td>2014</td>\n",
       "      <td>08</td>\n",
       "    </tr>\n",
       "    <tr>\n",
       "      <th>269084</th>\n",
       "      <td>Денежные переводы</td>\n",
       "      <td>2</td>\n",
       "      <td>17200</td>\n",
       "      <td>14376</td>\n",
       "      <td>outcome</td>\n",
       "      <td>Жен</td>\n",
       "      <td>СПбГУ</td>\n",
       "      <td>Медицинский</td>\n",
       "      <td>2018</td>\n",
       "      <td>2014</td>\n",
       "      <td>09</td>\n",
       "    </tr>\n",
       "    <tr>\n",
       "      <th>269085</th>\n",
       "      <td>Денежные переводы</td>\n",
       "      <td>2</td>\n",
       "      <td>18800</td>\n",
       "      <td>14376</td>\n",
       "      <td>outcome</td>\n",
       "      <td>Жен</td>\n",
       "      <td>СПбГУ</td>\n",
       "      <td>Медицинский</td>\n",
       "      <td>2018</td>\n",
       "      <td>2014</td>\n",
       "      <td>10</td>\n",
       "    </tr>\n",
       "    <tr>\n",
       "      <th>269086</th>\n",
       "      <td>Денежные переводы</td>\n",
       "      <td>6</td>\n",
       "      <td>67900</td>\n",
       "      <td>14376</td>\n",
       "      <td>outcome</td>\n",
       "      <td>Жен</td>\n",
       "      <td>СПбГУ</td>\n",
       "      <td>Медицинский</td>\n",
       "      <td>2018</td>\n",
       "      <td>2014</td>\n",
       "      <td>11</td>\n",
       "    </tr>\n",
       "    <tr>\n",
       "      <th>269087</th>\n",
       "      <td>Денежные переводы</td>\n",
       "      <td>9</td>\n",
       "      <td>115300</td>\n",
       "      <td>14376</td>\n",
       "      <td>outcome</td>\n",
       "      <td>Жен</td>\n",
       "      <td>СПбГУ</td>\n",
       "      <td>Медицинский</td>\n",
       "      <td>2018</td>\n",
       "      <td>2014</td>\n",
       "      <td>12</td>\n",
       "    </tr>\n",
       "    <tr>\n",
       "      <th>269088</th>\n",
       "      <td>Денежные переводы</td>\n",
       "      <td>2</td>\n",
       "      <td>21700</td>\n",
       "      <td>14376</td>\n",
       "      <td>outcome</td>\n",
       "      <td>Жен</td>\n",
       "      <td>СПбГУ</td>\n",
       "      <td>Медицинский</td>\n",
       "      <td>2018</td>\n",
       "      <td>2015</td>\n",
       "      <td>01</td>\n",
       "    </tr>\n",
       "    <tr>\n",
       "      <th>269089</th>\n",
       "      <td>Денежные переводы</td>\n",
       "      <td>1</td>\n",
       "      <td>13200</td>\n",
       "      <td>14376</td>\n",
       "      <td>outcome</td>\n",
       "      <td>Жен</td>\n",
       "      <td>СПбГУ</td>\n",
       "      <td>Медицинский</td>\n",
       "      <td>2018</td>\n",
       "      <td>2015</td>\n",
       "      <td>03</td>\n",
       "    </tr>\n",
       "    <tr>\n",
       "      <th>269090</th>\n",
       "      <td>Денежные переводы</td>\n",
       "      <td>1</td>\n",
       "      <td>6500</td>\n",
       "      <td>14376</td>\n",
       "      <td>outcome</td>\n",
       "      <td>Жен</td>\n",
       "      <td>СПбГУ</td>\n",
       "      <td>Медицинский</td>\n",
       "      <td>2018</td>\n",
       "      <td>2015</td>\n",
       "      <td>05</td>\n",
       "    </tr>\n",
       "    <tr>\n",
       "      <th>269091</th>\n",
       "      <td>Онлайн общение</td>\n",
       "      <td>1</td>\n",
       "      <td>10</td>\n",
       "      <td>14376</td>\n",
       "      <td>outcome</td>\n",
       "      <td>Жен</td>\n",
       "      <td>СПбГУ</td>\n",
       "      <td>Медицинский</td>\n",
       "      <td>2018</td>\n",
       "      <td>2014</td>\n",
       "      <td>11</td>\n",
       "    </tr>\n",
       "    <tr>\n",
       "      <th>269092</th>\n",
       "      <td>Служебная</td>\n",
       "      <td>1</td>\n",
       "      <td>20</td>\n",
       "      <td>14376</td>\n",
       "      <td>outcome</td>\n",
       "      <td>Жен</td>\n",
       "      <td>СПбГУ</td>\n",
       "      <td>Медицинский</td>\n",
       "      <td>2018</td>\n",
       "      <td>2015</td>\n",
       "      <td>11</td>\n",
       "    </tr>\n",
       "    <tr>\n",
       "      <th>269093</th>\n",
       "      <td>Сотовая связь</td>\n",
       "      <td>1</td>\n",
       "      <td>40</td>\n",
       "      <td>14376</td>\n",
       "      <td>outcome</td>\n",
       "      <td>Жен</td>\n",
       "      <td>СПбГУ</td>\n",
       "      <td>Медицинский</td>\n",
       "      <td>2018</td>\n",
       "      <td>2014</td>\n",
       "      <td>11</td>\n",
       "    </tr>\n",
       "  </tbody>\n",
       "</table>\n",
       "</div>"
      ],
      "text/plain": [
       "                 category  txn_count  payment  user_id     type  sex  \\\n",
       "269071               QIWI          2    15700    14376   income  Жен   \n",
       "269072               QIWI          2    17200    14376   income  Жен   \n",
       "269073               QIWI          2    19800    14376   income  Жен   \n",
       "269074               QIWI          6    67900    14376   income  Жен   \n",
       "269075               QIWI         11   140300    14376   income  Жен   \n",
       "269076               QIWI          3    22200    14376   income  Жен   \n",
       "269077               QIWI          1    13400    14376   income  Жен   \n",
       "269078               QIWI          1     3300    14376   income  Жен   \n",
       "269079               QIWI          1     6600    14376   income  Жен   \n",
       "269080               QIWI          2     1700    14376   income  Жен   \n",
       "269081                VPP          1     3200    14376  outcome  Жен   \n",
       "269082                VPP          2     1600    14376  outcome  Жен   \n",
       "269083  Денежные переводы          2    15700    14376  outcome  Жен   \n",
       "269084  Денежные переводы          2    17200    14376  outcome  Жен   \n",
       "269085  Денежные переводы          2    18800    14376  outcome  Жен   \n",
       "269086  Денежные переводы          6    67900    14376  outcome  Жен   \n",
       "269087  Денежные переводы          9   115300    14376  outcome  Жен   \n",
       "269088  Денежные переводы          2    21700    14376  outcome  Жен   \n",
       "269089  Денежные переводы          1    13200    14376  outcome  Жен   \n",
       "269090  Денежные переводы          1     6500    14376  outcome  Жен   \n",
       "269091     Онлайн общение          1       10    14376  outcome  Жен   \n",
       "269092          Служебная          1       20    14376  outcome  Жен   \n",
       "269093      Сотовая связь          1       40    14376  outcome  Жен   \n",
       "\n",
       "       university      faculty  graduation_year  year month  \n",
       "269071      СПбГУ  Медицинский             2018  2014    08  \n",
       "269072      СПбГУ  Медицинский             2018  2014    09  \n",
       "269073      СПбГУ  Медицинский             2018  2014    10  \n",
       "269074      СПбГУ  Медицинский             2018  2014    11  \n",
       "269075      СПбГУ  Медицинский             2018  2014    12  \n",
       "269076      СПбГУ  Медицинский             2018  2015    01  \n",
       "269077      СПбГУ  Медицинский             2018  2015    03  \n",
       "269078      СПбГУ  Медицинский             2018  2015    04  \n",
       "269079      СПбГУ  Медицинский             2018  2015    05  \n",
       "269080      СПбГУ  Медицинский             2018  2016    04  \n",
       "269081      СПбГУ  Медицинский             2018  2015    04  \n",
       "269082      СПбГУ  Медицинский             2018  2016    04  \n",
       "269083      СПбГУ  Медицинский             2018  2014    08  \n",
       "269084      СПбГУ  Медицинский             2018  2014    09  \n",
       "269085      СПбГУ  Медицинский             2018  2014    10  \n",
       "269086      СПбГУ  Медицинский             2018  2014    11  \n",
       "269087      СПбГУ  Медицинский             2018  2014    12  \n",
       "269088      СПбГУ  Медицинский             2018  2015    01  \n",
       "269089      СПбГУ  Медицинский             2018  2015    03  \n",
       "269090      СПбГУ  Медицинский             2018  2015    05  \n",
       "269091      СПбГУ  Медицинский             2018  2014    11  \n",
       "269092      СПбГУ  Медицинский             2018  2015    11  \n",
       "269093      СПбГУ  Медицинский             2018  2014    11  "
      ]
     },
     "execution_count": 276,
     "metadata": {},
     "output_type": "execute_result"
    }
   ],
   "source": [
    "data[data.user_id == 14376]"
   ]
  },
  {
   "cell_type": "code",
   "execution_count": 274,
   "metadata": {
    "collapsed": true
   },
   "outputs": [],
   "source": [
    "final.to_csv('final.csv', sep=';', encoding='windows-1251')"
   ]
  },
  {
   "cell_type": "code",
   "execution_count": 281,
   "metadata": {
    "collapsed": true
   },
   "outputs": [],
   "source": [
    "import somoclu"
   ]
  },
  {
   "cell_type": "code",
   "execution_count": 282,
   "metadata": {
    "collapsed": true
   },
   "outputs": [],
   "source": [
    "classes = very_important_save.pop(\"class\")"
   ]
  },
  {
   "cell_type": "code",
   "execution_count": 284,
   "metadata": {
    "collapsed": false
   },
   "outputs": [
    {
     "name": "stdout",
     "output_type": "stream",
     "text": [
      "Warning: data was not float32. A 32-bit copy was made\n"
     ]
    }
   ],
   "source": [
    "som = somoclu.Somoclu(100, 100, data=very_important_save.as_matrix())"
   ]
  },
  {
   "cell_type": "code",
   "execution_count": null,
   "metadata": {
    "collapsed": true
   },
   "outputs": [],
   "source": []
  }
 ],
 "metadata": {
  "anaconda-cloud": {},
  "kernelspec": {
   "display_name": "Python [Root]",
   "language": "python",
   "name": "Python [Root]"
  },
  "language_info": {
   "codemirror_mode": {
    "name": "ipython",
    "version": 3
   },
   "file_extension": ".py",
   "mimetype": "text/x-python",
   "name": "python",
   "nbconvert_exporter": "python",
   "pygments_lexer": "ipython3",
   "version": "3.5.2"
  }
 },
 "nbformat": 4,
 "nbformat_minor": 1
}
